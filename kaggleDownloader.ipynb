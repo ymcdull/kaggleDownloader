{
 "cells": [
  {
   "cell_type": "code",
   "execution_count": 106,
   "metadata": {
    "collapsed": true
   },
   "outputs": [],
   "source": [
    "## Need to prepare \"cookies.txt\" file exported from google plugin \"cookies.txt\"\n",
    "\n",
    "## \"pattern\" package needed\n",
    "## challenge_name hard-coded"
   ]
  },
  {
   "cell_type": "code",
   "execution_count": 107,
   "metadata": {
    "collapsed": false
   },
   "outputs": [
    {
     "name": "stderr",
     "output_type": "stream",
     "text": [
      "/usr/local/lib/python2.7/dist-packages/requests/packages/urllib3/util/ssl_.py:90: InsecurePlatformWarning: A true SSLContext object is not available. This prevents urllib3 from configuring SSL appropriately and may cause certain SSL connections to fail. For more information, see https://urllib3.readthedocs.org/en/latest/security.html#insecureplatformwarning.\n",
      "  InsecurePlatformWarning\n"
     ]
    }
   ],
   "source": [
    "from pattern import web\n",
    "import subprocess\n",
    "import requests\n",
    "\n",
    "website = \"https://www.kaggle.com\"\n",
    "challenge_name = \"house-prices-advanced-regression-techniques\"\n",
    "url = \"{}/c/{}/data\".format(website, challenge_name)\n",
    "\n",
    "page = requests.get(url).text.encode('ascii', 'ignore')\n",
    "dom = web.Element(page)\n",
    "table = dom.by_id(\"data-files\")\n",
    "a_elements = table.by_tag(\"a\")"
   ]
  },
  {
   "cell_type": "code",
   "execution_count": 108,
   "metadata": {
    "collapsed": false,
    "scrolled": true
   },
   "outputs": [
    {
     "name": "stdout",
     "output_type": "stream",
     "text": [
      "Download Review:\n",
      "data_description.txt\t(13.06 kb)\n",
      "train.csv\t(449.88 kb)\n",
      "test.csv\t(440.83 kb)\n",
      "sample_submission.csv\t(31.19 kb)\n"
     ]
    }
   ],
   "source": [
    "def download_check():\n",
    "    files = []\n",
    "    for i in range(len(a_elements)):\n",
    "        this_el = a_elements[i]\n",
    "        this_content = this_el.content\n",
    "        file_with_size = this_el.href.split('/')[-1] + '\\t' + this_content.split(' ', 1)[-1]\n",
    "\n",
    "        files.append(file_with_size)\n",
    "\n",
    "    print \"Download Review:\"\n",
    "    for f in files:\n",
    "        print f\n",
    "        \n",
    "download_check()"
   ]
  },
  {
   "cell_type": "code",
   "execution_count": 110,
   "metadata": {
    "collapsed": true
   },
   "outputs": [],
   "source": [
    "def download(small_file_only = False):\n",
    "    command_str = \"wget --load-cookies=cookies.txt {}\"\n",
    "    for i in range(len(a_elements)):\n",
    "        this_el = a_elements[i]\n",
    "        file_url = website + this_el.href\n",
    "        file_name = this_el.href.split('/')[-1]\n",
    "        \n",
    "        if small_file_only:\n",
    "            this_content = this_el.content\n",
    "            if this_content.strip().endswith((\"kb)\", \"GB)\")):\n",
    "                print \"Ignore large file: {}\".format(file_name)\n",
    "                print\n",
    "                continue\n",
    "\n",
    "        print(\"{} downloading...\".format(file_name))\n",
    "        command = command_str.format(file_url)\n",
    "        subprocess.call(command, shell = True)\n",
    "        print(\"{} finished...\".format(file_name))\n",
    "        print\n"
   ]
  },
  {
   "cell_type": "code",
   "execution_count": 112,
   "metadata": {
    "collapsed": false
   },
   "outputs": [
    {
     "name": "stdout",
     "output_type": "stream",
     "text": [
      "data_description.txt downloading...\n",
      "data_description.txt finished...\n",
      "\n",
      "train.csv downloading...\n",
      "train.csv finished...\n",
      "\n",
      "test.csv downloading...\n",
      "test.csv finished...\n",
      "\n",
      "sample_submission.csv downloading...\n",
      "sample_submission.csv finished...\n",
      "\n"
     ]
    }
   ],
   "source": [
    "if __name__ == \"__main__\":\n",
    "#     download_check()\n",
    "    download()"
   ]
  },
  {
   "cell_type": "code",
   "execution_count": null,
   "metadata": {
    "collapsed": true
   },
   "outputs": [],
   "source": []
  }
 ],
 "metadata": {
  "kernelspec": {
   "display_name": "Python 2",
   "language": "python",
   "name": "python2"
  },
  "language_info": {
   "codemirror_mode": {
    "name": "ipython",
    "version": 2
   },
   "file_extension": ".py",
   "mimetype": "text/x-python",
   "name": "python",
   "nbconvert_exporter": "python",
   "pygments_lexer": "ipython2",
   "version": "2.7.6"
  }
 },
 "nbformat": 4,
 "nbformat_minor": 0
}
